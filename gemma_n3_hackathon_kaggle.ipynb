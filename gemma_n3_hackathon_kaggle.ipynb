{
  "nbformat": 4,
  "nbformat_minor": 0,
  "metadata": {
    "colab": {
      "provenance": [],
      "authorship_tag": "ABX9TyPyss6vzdNNWKxCJz/DR+rt",
      "include_colab_link": true
    },
    "kernelspec": {
      "name": "python3",
      "display_name": "Python 3"
    },
    "language_info": {
      "name": "python"
    }
  },
  "cells": [
    {
      "cell_type": "markdown",
      "metadata": {
        "id": "view-in-github",
        "colab_type": "text"
      },
      "source": [
        "<a href=\"https://colab.research.google.com/github/hclank/kaggle-gemma-3n-hackathon/blob/main/gemma_n3_hackathon_kaggle.ipynb\" target=\"_parent\"><img src=\"https://colab.research.google.com/assets/colab-badge.svg\" alt=\"Open In Colab\"/></a>"
      ]
    },
    {
      "cell_type": "markdown",
      "source": [
        "Gotta come up with a name and idea for this project. Got one month remaining which is a ton of time but, can't get too cocky with the time."
      ],
      "metadata": {
        "id": "1qbXZHwKqUZX"
      }
    },
    {
      "cell_type": "code",
      "execution_count": 4,
      "metadata": {
        "id": "0TUiC7vLqDQX"
      },
      "outputs": [],
      "source": [
        "import kagglehub\n",
        "\n",
        "GEMMA_PATH = kagglehub.model_download(\"google/gemma-3n/transformers/gemma-3n-e2b-it\")"
      ]
    }
  ]
}